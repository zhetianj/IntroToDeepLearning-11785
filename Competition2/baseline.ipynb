{
 "cells": [
  {
   "cell_type": "code",
   "execution_count": 1,
   "metadata": {},
   "outputs": [],
   "source": [
    "import numpy as np\n",
    "import pandas as pd\n",
    "import torch\n",
    "import torch.nn as nn\n",
    "from torch.utils.data import Dataset, DataLoader, WeightedRandomSampler\n",
    "from sklearn.decomposition import PCA\n",
    "import torch.utils.data\n",
    "import pickle\n",
    "from tqdm import tqdm\n",
    "import time\n",
    "import gc\n",
    "import collections"
   ]
  },
  {
   "cell_type": "code",
   "execution_count": 2,
   "metadata": {},
   "outputs": [],
   "source": [
    "from torchvision.datasets import ImageFolder"
   ]
  },
  {
   "cell_type": "code",
   "execution_count": 3,
   "metadata": {},
   "outputs": [],
   "source": [
    "import matplotlib.pyplot as plt\n",
    "from torchvision import transforms\n",
    "from torch.nn import Sequential\n",
    "import os\n",
    "from torchvision.datasets import DatasetFolder\n",
    "from sklearn.metrics import f1_score\n",
    "import sys"
   ]
  },
  {
   "cell_type": "code",
   "execution_count": 4,
   "metadata": {},
   "outputs": [],
   "source": [
    "base_path = '.'\n",
    "train_path = base_path + '/train_data'\n",
    "train_medium_path = train_path + '/medium'\n",
    "\n",
    "val_path = base_path + '/validation_classification'\n",
    "val_medium_path = val_path + '/medium'\n",
    "\n",
    "test_path = base_path + '/test_classification'\n",
    "test_medium_path = test_path + '/medium'"
   ]
  },
  {
   "cell_type": "code",
   "execution_count": 5,
   "metadata": {},
   "outputs": [],
   "source": [
    "class MyImageFolder(ImageFolder):\n",
    "    def _find_classes(self, dir):\n",
    "        \"\"\"\n",
    "        Finds the class folders in a dataset.\n",
    "\n",
    "        Args:\n",
    "            dir (string): Root directory path.\n",
    "\n",
    "        Returns:\n",
    "            tuple: (classes, class_to_idx) where classes are relative to (dir), and class_to_idx is a dictionary.\n",
    "\n",
    "        Ensures:\n",
    "            No class is a subdirectory of another.\n",
    "        \"\"\"\n",
    "        if sys.version_info >= (3, 5):\n",
    "            # Faster and available in Python 3.5 and above\n",
    "            classes = [d.name for d in os.scandir(dir) if d.is_dir()]\n",
    "        else:\n",
    "            classes = [d for d in os.listdir(dir) if os.path.isdir(os.path.join(dir, d))]\n",
    "        classes\n",
    "        class_to_idx = {classes[i]: i for i in range(len(classes))}\n",
    "        return classes, class_to_idx"
   ]
  },
  {
   "cell_type": "code",
   "execution_count": 9,
   "metadata": {},
   "outputs": [],
   "source": [
    "transform_image = transforms.Compose([\n",
    "        transforms.Resize(64),\n",
    "        transforms.RandomCrop(64),\n",
    "        transforms.ToTensor()\n",
    "])"
   ]
  },
  {
   "cell_type": "code",
   "execution_count": 10,
   "metadata": {},
   "outputs": [],
   "source": [
    "val_imagefolder = MyImageFolder(val_medium_path, transform = transform_image)\n",
    "image_val_dataloader = DataLoader(val_imagefolder,\n",
    "                                    batch_size = 32,\n",
    "                                    drop_last = False,\n",
    "                                    shuffle = True)"
   ]
  },
  {
   "cell_type": "code",
   "execution_count": 11,
   "metadata": {},
   "outputs": [
    {
     "data": {
      "text/plain": [
       "<matplotlib.image.AxesImage at 0x2c1a9bf5fd0>"
      ]
     },
     "execution_count": 11,
     "metadata": {},
     "output_type": "execute_result"
    },
    {
     "data": {
      "image/png": "[encoded data removed]",
      "text/plain": [
       "<Figure size 432x288 with 1 Axes>"
      ]
     },
     "metadata": {
      "needs_background": "light"
     },
     "output_type": "display_data"
    }
   ],
   "source": [
    "plt.imshow(val_imagefolder[3][0][0])"
   ]
  },
  {
   "cell_type": "code",
   "execution_count": 12,
   "metadata": {},
   "outputs": [
    {
     "data": {
      "text/plain": [
       "1"
      ]
     },
     "execution_count": 12,
     "metadata": {},
     "output_type": "execute_result"
    }
   ],
   "source": [
    "val_imagefolder[3][1]"
   ]
  },
  {
   "cell_type": "code",
   "execution_count": 13,
   "metadata": {},
   "outputs": [],
   "source": [
    "from PIL import Image\n",
    "\n",
    "def pil_loader(path):\n",
    "    # open path as file to avoid ResourceWarning (https://github.com/python-pillow/Pillow/issues/835)\n",
    "    with open(path, 'rb') as f:\n",
    "        img = Image.open(f)\n",
    "        return img.convert('RGB')\n",
    "\n",
    "\n",
    "def accimage_loader(path):\n",
    "    import accimage\n",
    "    try:\n",
    "        return accimage.Image(path)\n",
    "    except IOError:\n",
    "        # Potentially a decoding problem, fall back to PIL.Image\n",
    "        return pil_loader(path)\n",
    "\n",
    "def default_loader(path):\n",
    "    from torchvision import get_image_backend\n",
    "    if get_image_backend() == 'accimage':\n",
    "        return accimage_loader(path)\n",
    "    else:\n",
    "        return pil_loader(path)"
   ]
  },
  {
   "cell_type": "code",
   "execution_count": 14,
   "metadata": {},
   "outputs": [],
   "source": [
    "class TestImageFolder(DatasetFolder):\n",
    "    \n",
    "    def __init__(self, root, extensions=None, transform=None):\n",
    "        super(DatasetFolder, self).__init__(root, transform=transform)\n",
    "        \n",
    "        self.root = root\n",
    "        self.loader = default_loader\n",
    "        self.extensions = extensions\n",
    "        self.samples = list(os.walk(root))[0][2]\n",
    "    \n",
    "\n",
    "    def __getitem__(self, index):\n",
    "        \n",
    "        file_name = self.samples[index]\n",
    "        sample = self.loader(os.path.join(self.root, file_name))\n",
    "        if self.transform is not None:\n",
    "            sample = self.transform(sample)\n",
    "\n",
    "        return sample\n",
    "\n",
    "\n",
    "    def __len__(self):\n",
    "        return len(self.samples)\n"
   ]
  },
  {
   "cell_type": "code",
   "execution_count": 17,
   "metadata": {},
   "outputs": [],
   "source": [
    "def val_accuracy(model):\n",
    "    \n",
    "    with torch.no_grad():\n",
    "        model.eval().cuda()\n",
    "        y_pred = []\n",
    "        y_true = []\n",
    "        for index, (val_features, val_labels) in enumerate(image_val_dataloader):\n",
    "            val_features = val_features.cuda()\n",
    "\n",
    "            outputs = model(val_features).view(val_labels.shape[0], -1)\n",
    "            predictions = torch.max(outputs.data, 1)[1]\n",
    "            y_pred += list(predictions.data.cpu().numpy())\n",
    "            y_true += list(val_labels.numpy())\n",
    "        \n",
    "    f1 = f1_score(y_true = y_true, y_pred = y_pred, average='weighted')\n",
    "    \n",
    "    return f1"
   ]
  },
  {
   "cell_type": "code",
   "execution_count": 18,
   "metadata": {},
   "outputs": [],
   "source": [
    "def val_accuracy(model):\n",
    "    \n",
    "    with torch.no_grad():\n",
    "        model.eval().cuda()\n",
    "        y_pred = []\n",
    "        y_true = []\n",
    "        for index, (val_features, val_labels) in enumerate(image_val_dataloader):\n",
    "            val_features = val_features.cuda()\n",
    "\n",
    "            outputs = model(val_features).view(val_labels.shape[0], -1)\n",
    "            predictions = torch.max(outputs.data, 1)[1]\n",
    "            y_pred += list(predictions.data.cpu().numpy())\n",
    "            y_true += list(val_labels.numpy())\n",
    "        \n",
    "    return sum(np.array(y_true) == np.array(y_pred))/len(y_true)"
   ]
  },
  {
   "cell_type": "code",
   "execution_count": 14,
   "metadata": {},
   "outputs": [],
   "source": [
    "class MyCNN(nn.Module):\n",
    "    \n",
    "    def __init__(self):\n",
    "        super().__init__()\n",
    "        self.convolutional_layers = Sequential(\n",
    "            #first part-29\n",
    "            nn.Conv2d(in_channels = 3, out_channels = 64, kernel_size = 4, stride = 1, padding = 1),\n",
    "            nn.BatchNorm2d(64),\n",
    "            nn.PReLU(),\n",
    "            nn.MaxPool2d(kernel_size = 2, stride = 2),\n",
    "            nn.Dropout2d(0.2),\n",
    "\n",
    "            #second part-14\n",
    "            nn.Conv2d(in_channels = 64, out_channels = 32, kernel_size = 2, stride = 2, padding = 2),\n",
    "            nn.BatchNorm2d(32),\n",
    "            nn.ReLU(),\n",
    "            nn.MaxPool2d(kernel_size = 2, stride = 2),\n",
    "            nn.Dropout2d(0.2)\n",
    "        )\n",
    "\n",
    "        self.output_layers = Sequential(\n",
    "            nn.Linear(2048, 4096),\n",
    "            nn.BatchNorm1d(4096),\n",
    "            nn.ReLU(),\n",
    "            nn.Dropout(0.2),\n",
    "            nn.Linear(4096, 2048),\n",
    "            nn.BatchNorm1d(2048),\n",
    "            nn.ReLU(),\n",
    "            nn.Dropout(0.15),\n",
    "            nn.Linear(2048, 2300)\n",
    "        )\n",
    "\n",
    "\n",
    "    def forward(self, x):\n",
    "\n",
    "        conv_output = self.convolutional_layers(x)\n",
    "        \n",
    "        output = self.output_layers(conv_output.view(conv_output.shape[0], -1))\n",
    "        \n",
    "        return output"
   ]
  },
  {
   "cell_type": "code",
   "execution_count": 19,
   "metadata": {},
   "outputs": [],
   "source": [
    "from torch.nn import ReLU, Conv2d, MaxPool2d, BatchNorm1d, BatchNorm2d"
   ]
  },
  {
   "cell_type": "code",
   "execution_count": 57,
   "metadata": {},
   "outputs": [],
   "source": [
    "class MyVGG(nn.Module):\n",
    "    \n",
    "    def __init__(self):\n",
    "        super().__init__()\n",
    "        inplace = True\n",
    "        \n",
    "        self.convolutional_layers = Sequential(\n",
    "            Conv2d(3, 64, kernel_size=(3, 3), stride=(1, 1), padding=(1, 1)),\n",
    "            ReLU(inplace),\n",
    "            Conv2d(64, 64, kernel_size=(3, 3), stride=(1, 1), padding=(1, 1)),\n",
    "            ReLU(inplace),\n",
    "            MaxPool2d(kernel_size=2, stride=2, padding=0, dilation=1, ceil_mode=False),\n",
    "            Conv2d(64, 128, kernel_size=(3, 3), stride=(1, 1), padding=(1, 1)),\n",
    "            ReLU(inplace),\n",
    "            Conv2d(128, 128, kernel_size=(3, 3), stride=(1, 1), padding=(1, 1)),\n",
    "            ReLU(inplace),\n",
    "            MaxPool2d(kernel_size=2, stride=2, padding=0, dilation=1, ceil_mode=False),\n",
    "            Conv2d(128, 256, kernel_size=(3, 3), stride=(1, 1), padding=(1, 1)),\n",
    "            ReLU(inplace),\n",
    "            Conv2d(256, 256, kernel_size=(3, 3), stride=(1, 1), padding=(1, 1)),\n",
    "            ReLU(inplace),\n",
    "            Conv2d(256, 256, kernel_size=(3, 3), stride=(1, 1), padding=(1, 1)),\n",
    "            ReLU(inplace),\n",
    "            MaxPool2d(kernel_size=2, stride=2, padding=0, dilation=1, ceil_mode=False),\n",
    "            Conv2d(256, 512, kernel_size=(3, 3), stride=(1, 1), padding=(1, 1)),\n",
    "            ReLU(inplace),\n",
    "            Conv2d(512, 512, kernel_size=(3, 3), stride=(1, 1), padding=(1, 1)),\n",
    "            ReLU(inplace),\n",
    "            Conv2d(512, 512, kernel_size=(3, 3), stride=(1, 1), padding=(1, 1)),\n",
    "            ReLU(inplace),\n",
    "            MaxPool2d(kernel_size=2, stride=2, padding=0, dilation=1, ceil_mode=False),\n",
    "            Conv2d(512, 512, kernel_size=(3, 3), stride=(1, 1), padding=(1, 1)),\n",
    "            ReLU(inplace),\n",
    "            Conv2d(512, 512, kernel_size=(3, 3), stride=(1, 1), padding=(1, 1)),\n",
    "            ReLU(inplace),\n",
    "            Conv2d(512, 512, kernel_size=(3, 3), stride=(1, 1), padding=(1, 1)),\n",
    "            ReLU(inplace),\n",
    "            MaxPool2d(kernel_size=2, stride=2, padding=0, dilation=1, ceil_mode=False)\n",
    "        )\n",
    "\n",
    "        self.output_layers = Sequential(\n",
    "            nn.Linear(512, 4096),\n",
    "            nn.BatchNorm1d(4096),\n",
    "            nn.ReLU(True),\n",
    "            nn.Dropout(0.1),\n",
    "            nn.Linear(4096, 2048),\n",
    "            nn.BatchNorm1d(2048),\n",
    "            nn.ReLU(True),\n",
    "            nn.Dropout(0.1),\n",
    "            nn.Linear(2048, 2300)\n",
    "        )\n",
    "\n",
    "\n",
    "    def forward(self, x):\n",
    "\n",
    "        conv_output = self.convolutional_layers(x)\n",
    "        \n",
    "        output = self.output_layers(conv_output.view(conv_output.shape[0], -1))\n",
    "        \n",
    "        return output"
   ]
  },
  {
   "cell_type": "code",
   "execution_count": 31,
   "metadata": {},
   "outputs": [],
   "source": [
    "class MyVGG(nn.Module):\n",
    "    \n",
    "    def __init__(self):\n",
    "        super().__init__()\n",
    "        inplace = True\n",
    "        \n",
    "        self.convolutional_layers = Sequential(\n",
    "            Conv2d(3, 64, kernel_size=(3, 3), stride=(1, 1), padding=(1, 1)),\n",
    "            ReLU(inplace),\n",
    "            Conv2d(64, 64, kernel_size=(3, 3), stride=(1, 1), padding=(1, 1)),\n",
    "            ReLU(inplace),\n",
    "            MaxPool2d(kernel_size=2, stride=2, padding=0, dilation=1, ceil_mode=False),\n",
    "            Conv2d(64, 128, kernel_size=(3, 3), stride=(1, 1), padding=(1, 1)),\n",
    "            ReLU(inplace),\n",
    "            Conv2d(128, 128, kernel_size=(3, 3), stride=(1, 1), padding=(1, 1)),\n",
    "            ReLU(inplace),\n",
    "            MaxPool2d(kernel_size=2, stride=2, padding=0, dilation=1, ceil_mode=False)\n",
    "        )\n",
    "\n",
    "        self.output_layers = Sequential(\n",
    "            nn.Linear(32768, 4096),\n",
    "            nn.BatchNorm1d(4096),\n",
    "            nn.ReLU(True),\n",
    "            nn.Dropout(0.1),\n",
    "            nn.Linear(4096, 2048),\n",
    "            nn.BatchNorm1d(2048),\n",
    "            nn.ReLU(True),\n",
    "            nn.Dropout(0.1),\n",
    "            nn.Linear(2048, 2300)\n",
    "        )\n",
    "\n",
    "\n",
    "    def forward(self, x):\n",
    "\n",
    "        conv_output = self.convolutional_layers(x)\n",
    "        \n",
    "        output = self.output_layers(conv_output.view(conv_output.shape[0], -1))\n",
    "        \n",
    "        return output"
   ]
  },
  {
   "cell_type": "code",
   "execution_count": 12,
   "metadata": {},
   "outputs": [],
   "source": [
    "'''class MyCNN(nn.Module):\n",
    "    \n",
    "    def __init__(self):\n",
    "        super().__init__()\n",
    "        self.convolutional_layers = Sequential(\n",
    "            nn.ReLU()\n",
    "        )\n",
    "\n",
    "        self.output_layers = Sequential(\n",
    "            nn.Linear(3072, 4096),\n",
    "            nn.BatchNorm1d(4096),\n",
    "            nn.ReLU(),\n",
    "            nn.Dropout(0.2),\n",
    "            nn.Linear(4096, 2048),\n",
    "            nn.BatchNorm1d(2048),\n",
    "            nn.ReLU(),\n",
    "            nn.Dropout(0.15),\n",
    "            nn.Linear(2048, 2300)\n",
    "        )\n",
    "\n",
    "\n",
    "    def forward(self, x):\n",
    "\n",
    "        conv_output = self.convolutional_layers(x)\n",
    "        output = self.output_layers(conv_output.view(conv_output.shape[0], -1))\n",
    "        \n",
    "        return output'''"
   ]
  },
  {
   "cell_type": "code",
   "execution_count": null,
   "metadata": {},
   "outputs": [],
   "source": [
    "'''class MyVGG(nn.Module)'''"
   ]
  },
  {
   "cell_type": "code",
   "execution_count": 21,
   "metadata": {},
   "outputs": [],
   "source": [
    "def init_weights(m):\n",
    "    if type(m) == nn.Linear:\n",
    "        torch.nn.init.xavier_uniform(m.weight)\n",
    "        m.bias.data.fill_(0.01)"
   ]
  },
  {
   "cell_type": "code",
   "execution_count": 136,
   "metadata": {},
   "outputs": [
    {
     "name": "stderr",
     "output_type": "stream",
     "text": [
      "Using cache found in C:\\Users\\1/.cache\\torch\\hub\\pytorch_vision_v0.5.0\n"
     ]
    }
   ],
   "source": [
    "model = torch.hub.load('pytorch/vision:v0.5.0', 'vgg11', pretrained=True)"
   ]
  },
  {
   "cell_type": "code",
   "execution_count": 33,
   "metadata": {},
   "outputs": [
    {
     "name": "stderr",
     "output_type": "stream",
     "text": [
      "C:\\Users\\1\\Anaconda3\\envs\\python3.5\\lib\\site-packages\\ipykernel_launcher.py:3: UserWarning: nn.init.xavier_uniform is now deprecated in favor of nn.init.xavier_uniform_.\n",
      "  This is separate from the ipykernel package so we can avoid doing imports until\n"
     ]
    },
    {
     "data": {
      "text/plain": [
       "MyVGG(\n",
       "  (convolutional_layers): Sequential(\n",
       "    (0): Conv2d(3, 64, kernel_size=(3, 3), stride=(1, 1), padding=(1, 1))\n",
       "    (1): ReLU(inplace=True)\n",
       "    (2): Conv2d(64, 64, kernel_size=(3, 3), stride=(1, 1), padding=(1, 1))\n",
       "    (3): ReLU(inplace=True)\n",
       "    (4): MaxPool2d(kernel_size=2, stride=2, padding=0, dilation=1, ceil_mode=False)\n",
       "    (5): Conv2d(64, 128, kernel_size=(3, 3), stride=(1, 1), padding=(1, 1))\n",
       "    (6): ReLU(inplace=True)\n",
       "    (7): Conv2d(128, 128, kernel_size=(3, 3), stride=(1, 1), padding=(1, 1))\n",
       "    (8): ReLU(inplace=True)\n",
       "    (9): MaxPool2d(kernel_size=2, stride=2, padding=0, dilation=1, ceil_mode=False)\n",
       "  )\n",
       "  (output_layers): Sequential(\n",
       "    (0): Linear(in_features=32768, out_features=4096, bias=True)\n",
       "    (1): BatchNorm1d(4096, eps=1e-05, momentum=0.1, affine=True, track_running_stats=True)\n",
       "    (2): ReLU(inplace=True)\n",
       "    (3): Dropout(p=0.1, inplace=False)\n",
       "    (4): Linear(in_features=4096, out_features=2048, bias=True)\n",
       "    (5): BatchNorm1d(2048, eps=1e-05, momentum=0.1, affine=True, track_running_stats=True)\n",
       "    (6): ReLU(inplace=True)\n",
       "    (7): Dropout(p=0.1, inplace=False)\n",
       "    (8): Linear(in_features=2048, out_features=2300, bias=True)\n",
       "  )\n",
       ")"
      ]
     },
     "execution_count": 33,
     "metadata": {},
     "output_type": "execute_result"
    }
   ],
   "source": [
    "model = MyVGG()\n",
    "model.apply(init_weights)"
   ]
  },
  {
   "cell_type": "code",
   "execution_count": 26,
   "metadata": {},
   "outputs": [],
   "source": [
    "imagefolder = MyImageFolder(train_medium_path, transform = transform_image)"
   ]
  },
  {
   "cell_type": "code",
   "execution_count": 27,
   "metadata": {},
   "outputs": [],
   "source": [
    "counts = [imagefolder.targets.count(target) for target in range(2300)]\n",
    "target_counts = np.array([counts[target] for target in imagefolder.targets])"
   ]
  },
  {
   "cell_type": "code",
   "execution_count": 28,
   "metadata": {},
   "outputs": [],
   "source": [
    "target_weights = 1/target_counts\n",
    "weighted_sampler = WeightedRandomSampler(weights = target_weights,\n",
    "                                         replacement = True,\n",
    "                                         num_samples = len(target_weights))"
   ]
  },
  {
   "cell_type": "code",
   "execution_count": 36,
   "metadata": {},
   "outputs": [],
   "source": [
    "image_train_dataloader = DataLoader(imagefolder,\n",
    "                                    batch_size = 64,\n",
    "                                    drop_last = False,\n",
    "                                    shuffle = False,\n",
    "                                    sampler = weighted_sampler)"
   ]
  },
  {
   "cell_type": "code",
   "execution_count": 29,
   "metadata": {},
   "outputs": [],
   "source": [
    "torch.cuda.empty_cache()"
   ]
  },
  {
   "cell_type": "code",
   "execution_count": 34,
   "metadata": {
    "scrolled": true
   },
   "outputs": [
    {
     "data": {
      "text/plain": [
       "0.0004347826086956522"
      ]
     },
     "execution_count": 34,
     "metadata": {},
     "output_type": "execute_result"
    }
   ],
   "source": [
    "val_accuracy(model)"
   ]
  },
  {
   "cell_type": "code",
   "execution_count": 37,
   "metadata": {
    "scrolled": true
   },
   "outputs": [
    {
     "name": "stdout",
     "output_type": "stream",
     "text": [
      "average loss: 7.701126388072968\n",
      "average loss: 7.347619277477264\n",
      "average loss: 7.086101522922516\n",
      "average loss: 6.856671692371369\n",
      "average loss: 6.6622455458641054\n",
      "average loss: 6.483898948192596\n",
      "average loss: 6.3314166231155395\n",
      "average loss: 6.179625605583191\n",
      "average loss: 6.033585300445557\n",
      "average loss: 5.898634771347046\n",
      "average loss: 5.752074809074402\n",
      "average loss: 5.627170861244202\n",
      "Epoch 1 Done.\n",
      "Validation Accuracy 0.11043478260869566\n",
      "average loss: 5.386026895523071\n",
      "average loss: 5.2705832796096805\n",
      "average loss: 5.138296898841858\n",
      "average loss: 5.014059167385101\n",
      "average loss: 4.911017042160034\n",
      "average loss: 4.797651696205139\n",
      "average loss: 4.688587040901184\n",
      "average loss: 4.576223440885544\n",
      "average loss: 4.497058034181594\n",
      "average loss: 4.391749188423157\n",
      "average loss: 4.2895171909332275\n",
      "average loss: 4.213729162216186\n",
      "Epoch 2 Done.\n",
      "Validation Accuracy 0.25369565217391304\n",
      "average loss: 4.051757622957229\n",
      "average loss: 3.9613748376369475\n",
      "average loss: 3.890374097824097\n",
      "average loss: 3.8171429622173307\n",
      "average loss: 3.7292621762752534\n",
      "average loss: 3.666837481737137\n",
      "average loss: 3.600328631401062\n",
      "average loss: 3.523104860544205\n",
      "average loss: 3.4540478894710542\n",
      "average loss: 3.3992357723712923\n",
      "average loss: 3.3166472582817077\n",
      "average loss: 3.247266697645187\n",
      "Epoch 3 Done.\n",
      "Validation Accuracy 0.32717391304347826\n",
      "average loss: 3.1527171797752382\n",
      "average loss: 3.0724456174373627\n",
      "average loss: 3.02568875002861\n",
      "average loss: 2.963585067510605\n",
      "average loss: 2.925177230119705\n",
      "average loss: 2.8681150509119036\n",
      "average loss: 2.801382282495499\n",
      "average loss: 2.747843225598335\n",
      "average loss: 2.7058240379095078\n",
      "average loss: 2.6520908043384552\n",
      "average loss: 2.599905882716179\n",
      "average loss: 2.5409666080474853\n",
      "Epoch 4 Done.\n",
      "Validation Accuracy 0.3869565217391304\n",
      "average loss: 2.4596312901973723\n",
      "average loss: 2.3969488589763643\n",
      "average loss: 2.3522868328094484\n",
      "average loss: 2.311547544836998\n",
      "average loss: 2.260378205180168\n",
      "average loss: 2.218801285147667\n",
      "average loss: 2.176737867832184\n",
      "average loss: 2.1386742322444916\n",
      "average loss: 2.102924156665802\n",
      "average loss: 2.0642263408899306\n",
      "average loss: 2.0116067037582397\n",
      "average loss: 1.9612478938102722\n",
      "Epoch 5 Done.\n",
      "Validation Accuracy 0.4256521739130435\n",
      "average loss: 1.8879836492538453\n",
      "average loss: 1.870123988389969\n",
      "average loss: 1.8154370412826537\n",
      "average loss: 1.7769823130369187\n",
      "average loss: 1.7663007330894471\n",
      "average loss: 1.702977303981781\n",
      "average loss: 1.6680751683712005\n",
      "average loss: 1.6407970749735832\n",
      "average loss: 1.6023557304143905\n",
      "average loss: 1.560382440686226\n",
      "average loss: 1.5406837623119354\n",
      "average loss: 1.4985547429919244\n",
      "Epoch 6 Done.\n",
      "Validation Accuracy 0.44521739130434784\n",
      "average loss: 1.4365629272460938\n",
      "average loss: 1.406272825062275\n",
      "average loss: 1.3706515449881553\n",
      "average loss: 1.3414742442965508\n",
      "average loss: 1.3277266676425934\n",
      "average loss: 1.2984682840108872\n",
      "average loss: 1.2525048582553864\n",
      "average loss: 1.2293452518582344\n",
      "average loss: 1.2013058006167412\n",
      "average loss: 1.18391607016325\n",
      "average loss: 1.1614442957043647\n",
      "average loss: 1.1236279618144036\n",
      "Epoch 7 Done.\n",
      "Validation Accuracy 0.45652173913043476\n",
      "average loss: 1.0886166797280312\n",
      "average loss: 1.0502994705438613\n",
      "average loss: 1.0262786329388618\n",
      "average loss: 1.0027660075426101\n",
      "average loss: 0.9838886812329293\n",
      "average loss: 0.9517704326510429\n",
      "average loss: 0.9339775312840939\n",
      "average loss: 0.8962252477407455\n",
      "average loss: 0.8769633605480194\n",
      "average loss: 0.8585613211393356\n",
      "average loss: 0.8378750813603402\n",
      "average loss: 0.8207312714159488\n",
      "Epoch 8 Done.\n",
      "Validation Accuracy 0.46869565217391307\n",
      "average loss: 0.7811107043325901\n",
      "average loss: 0.7592134759426117\n",
      "average loss: 0.7479097610414028\n",
      "average loss: 0.7267610377073288\n",
      "average loss: 0.7107737663388253\n",
      "average loss: 0.6859496626257896\n",
      "average loss: 0.6766266853511334\n",
      "average loss: 0.6590858721137047\n",
      "average loss: 0.639688190728426\n",
      "average loss: 0.6213987733721733\n",
      "average loss: 0.6112634989917278\n",
      "average loss: 0.5991982313096523\n",
      "Epoch 9 Done.\n",
      "Validation Accuracy 0.473695652173913\n",
      "average loss: 0.5617776444256306\n",
      "average loss: 0.5541078161001205\n",
      "average loss: 0.5294007991999388\n",
      "average loss: 0.5301767274737358\n",
      "average loss: 0.5129644469916821\n",
      "average loss: 0.49911176423728465\n",
      "average loss: 0.4852338607907295\n",
      "average loss: 0.47723482066392897\n",
      "average loss: 0.4626584985256195\n",
      "average loss: 0.4482247557491064\n",
      "average loss: 0.4401917282640934\n",
      "average loss: 0.43367534413933756\n",
      "Epoch 10 Done.\n",
      "Validation Accuracy 0.4678260869565217\n",
      "average loss: 0.4079775771051645\n",
      "average loss: 0.4081776865124703\n",
      "average loss: 0.38905928188562394\n",
      "average loss: 0.3843314589112997\n",
      "average loss: 0.3757664484381676\n",
      "average loss: 0.3528733994215727\n",
      "average loss: 0.35054721440374853\n",
      "average loss: 0.33872986514866354\n",
      "average loss: 0.33020171500742435\n",
      "average loss: 0.3292794833034277\n",
      "average loss: 0.31846621400117875\n",
      "average loss: 0.31421853964030744\n",
      "Epoch 11 Done.\n",
      "Validation Accuracy 0.47804347826086957\n",
      "average loss: 0.2931036557406187\n",
      "average loss: 0.2842293567061424\n",
      "average loss: 0.2813762686699629\n",
      "average loss: 0.2762838020324707\n",
      "average loss: 0.26150006520748137\n",
      "average loss: 0.25939607159793376\n",
      "average loss: 0.2576372005492449\n",
      "average loss: 0.24464185455441476\n",
      "average loss: 0.2404175797998905\n",
      "average loss: 0.23500175178050994\n",
      "average loss: 0.2291005294919014\n",
      "average loss: 0.22412910133600236\n",
      "Epoch 12 Done.\n",
      "Validation Accuracy 0.48130434782608694\n",
      "average loss: 0.21666262160241603\n",
      "average loss: 0.20842581301927565\n",
      "average loss: 0.2070107318907976\n",
      "average loss: 0.20106306675076485\n",
      "average loss: 0.1965950710773468\n",
      "average loss: 0.19327360670268537\n",
      "average loss: 0.18519263854622842\n",
      "average loss: 0.183955231025815\n",
      "average loss: 0.17822574631869792\n",
      "average loss: 0.17127368342876434\n",
      "average loss: 0.17061808232963085\n",
      "average loss: 0.16455161912739277\n",
      "Epoch 13 Done.\n",
      "Validation Accuracy 0.47978260869565215\n",
      "average loss: 0.155889458283782\n",
      "average loss: 0.15214671137928962\n",
      "average loss: 0.1499818895459175\n",
      "average loss: 0.1488199368417263\n",
      "average loss: 0.14176677724719047\n",
      "average loss: 0.14018602854013443\n",
      "average loss: 0.13636677296459676\n",
      "average loss: 0.1302777495831251\n",
      "average loss: 0.13275350849330425\n",
      "average loss: 0.12863267208635806\n",
      "average loss: 0.1291192952170968\n",
      "average loss: 0.12380081687867642\n",
      "Epoch 14 Done.\n",
      "Validation Accuracy 0.48630434782608695\n",
      "average loss: 0.11848617723584175\n",
      "average loss: 0.1129845139235258\n",
      "average loss: 0.11276699262857437\n",
      "average loss: 0.11015274015069008\n",
      "average loss: 0.11182811478525401\n",
      "average loss: 0.10705729395151138\n",
      "average loss: 0.10447328570485115\n",
      "average loss: 0.10456784535199404\n",
      "average loss: 0.1014471792280674\n",
      "average loss: 0.09863349927961826\n",
      "average loss: 0.09358915381133556\n",
      "average loss: 0.0931939703375101\n",
      "Epoch 15 Done.\n",
      "Validation Accuracy 0.4926086956521739\n",
      "average loss: 0.09054209735989571\n",
      "average loss: 0.08944721768796444\n",
      "average loss: 0.08648768088966607\n",
      "average loss: 0.08642820586264134\n",
      "average loss: 0.08362325444072485\n",
      "average loss: 0.08349193625152111\n",
      "average loss: 0.08179291012138128\n",
      "average loss: 0.08101143065094948\n",
      "average loss: 0.08068643648922444\n",
      "average loss: 0.07644547162950038\n",
      "average loss: 0.07599801959842443\n",
      "average loss: 0.0744495962113142\n",
      "Epoch 16 Done.\n",
      "Validation Accuracy 0.49543478260869567\n"
     ]
    },
    {
     "name": "stderr",
     "output_type": "stream",
     "text": [
      "Exception ignored in: <bound method Image.__del__ of <PIL.JpegImagePlugin.JpegImageFile image mode=RGB size=32x32 at 0x2C23064C278>>\n",
      "Traceback (most recent call last):\n",
      "  File \"C:\\Users\\1\\Anaconda3\\envs\\python3.5\\lib\\site-packages\\PIL\\Image.py\", line 629, in __del__\n",
      "    def __del__(self):\n",
      "KeyboardInterrupt\n"
     ]
    },
    {
     "ename": "KeyboardInterrupt",
     "evalue": "",
     "output_type": "error",
     "traceback": [
      "\u001b[1;31m---------------------------------------------------------------------------\u001b[0m",
      "\u001b[1;31mKeyboardInterrupt\u001b[0m                         Traceback (most recent call last)",
      "\u001b[1;32m<ipython-input-37-bc0d480f7346>\u001b[0m in \u001b[0;36m<module>\u001b[1;34m()\u001b[0m\n\u001b[0;32m     21\u001b[0m         \u001b[0mloss\u001b[0m \u001b[1;33m=\u001b[0m \u001b[0mcriterion\u001b[0m\u001b[1;33m(\u001b[0m\u001b[0moutput\u001b[0m\u001b[1;33m,\u001b[0m \u001b[0mlabels\u001b[0m\u001b[1;33m.\u001b[0m\u001b[0mlong\u001b[0m\u001b[1;33m(\u001b[0m\u001b[1;33m)\u001b[0m\u001b[1;33m)\u001b[0m\u001b[1;33m\u001b[0m\u001b[0m\n\u001b[0;32m     22\u001b[0m         \u001b[0mloss\u001b[0m\u001b[1;33m.\u001b[0m\u001b[0mbackward\u001b[0m\u001b[1;33m(\u001b[0m\u001b[1;33m)\u001b[0m\u001b[1;33m\u001b[0m\u001b[0m\n\u001b[1;32m---> 23\u001b[1;33m         \u001b[0mavg_loss\u001b[0m \u001b[1;33m+=\u001b[0m \u001b[0mloss\u001b[0m\u001b[1;33m.\u001b[0m\u001b[0mitem\u001b[0m\u001b[1;33m(\u001b[0m\u001b[1;33m)\u001b[0m\u001b[1;33m\u001b[0m\u001b[0m\n\u001b[0m\u001b[0;32m     24\u001b[0m         '''        \n\u001b[0;32m     25\u001b[0m         \u001b[0mpredictions\u001b[0m \u001b[1;33m=\u001b[0m \u001b[0mtorch\u001b[0m\u001b[1;33m.\u001b[0m\u001b[0mmax\u001b[0m\u001b[1;33m(\u001b[0m\u001b[0moutput\u001b[0m\u001b[1;33m.\u001b[0m\u001b[0mdata\u001b[0m\u001b[1;33m,\u001b[0m \u001b[1;36m1\u001b[0m\u001b[1;33m)\u001b[0m\u001b[1;33m[\u001b[0m\u001b[1;36m1\u001b[0m\u001b[1;33m]\u001b[0m\u001b[1;33m\u001b[0m\u001b[0m\n",
      "\u001b[1;31mKeyboardInterrupt\u001b[0m: "
     ]
    }
   ],
   "source": [
    "#15 epoches to 47%\n",
    "for i in range(100):\n",
    "    model.train().cuda()\n",
    "    criterion = nn.CrossEntropyLoss()\n",
    "    #optimizer = torch.optim.Adam(model.parameters(), lr = 0.001)\n",
    "    optimizer = torch.optim.SGD(model.parameters(), lr = 0.001, weight_decay = 0, momentum = 0.9)\n",
    "    \n",
    "    avg_loss = 0\n",
    "    '''    \n",
    "    train_pred = []\n",
    "    train_true = []\n",
    "    '''\n",
    "    for index, (features, labels) in enumerate(image_train_dataloader):\n",
    "        optimizer.zero_grad()\n",
    "        '''\n",
    "        train_true += list(labels.numpy())\n",
    "        '''\n",
    "        features = features.cuda()\n",
    "        labels = labels.cuda()\n",
    "        \n",
    "        output = model(features).view(labels.shape[0], -1)\n",
    "        loss = criterion(output, labels.long())\n",
    "        loss.backward()\n",
    "        avg_loss += loss.item()\n",
    "        '''        \n",
    "        predictions = torch.max(output.data, 1)[1]\n",
    "        train_pred += list(predictions.data.cpu().numpy())\n",
    "        '''\n",
    "        optimizer.step() \n",
    "        \n",
    "        if index%1000 == 0 and index != 0:\n",
    "            print(\"average loss:\", avg_loss/1000)\n",
    "            avg_loss = 0\n",
    "            '''            \n",
    "            print(\"f1_score:\",f1_score( y_true=train_true, y_pred=train_pred, average='weighted'))\n",
    "            train_true = []\n",
    "            train_pred = [] \n",
    "            '''\n",
    "    print(\"Epoch {0} Done.\".format(i+1))\n",
    "    print(\"Validation Accuracy\", val_accuracy(model))"
   ]
  },
  {
   "cell_type": "code",
   "execution_count": 38,
   "metadata": {},
   "outputs": [],
   "source": [
    "pickle.dump(model, open('vgg_trial.pkl','wb'))"
   ]
  },
  {
   "cell_type": "code",
   "execution_count": 69,
   "metadata": {},
   "outputs": [],
   "source": [
    "def make_classification_submission(model, idx_to_class, test_path = test_medium_path):\n",
    "    '''\n",
    "    using customized dataset\n",
    "    '''\n",
    "    test_dataset = TestImageFolder(test_path, transform = transform_image)\n",
    "    test_dataloader = DataLoader(test_dataset, \n",
    "                             batch_size = 32,\n",
    "                             drop_last = False,\n",
    "                             shuffle = False)\n",
    "    \n",
    "    submission_indices = test_dataloader.dataset.samples\n",
    "    submission_prediction = []\n",
    "    for index, (img) in enumerate(test_dataloader):\n",
    "        model.eval().cuda()\n",
    "        img = img.cuda()\n",
    "\n",
    "        outputs = model(img).view(img.shape[0], -1)\n",
    "        predictions = torch.max(outputs.data, 1)[1]\n",
    "        submission_prediction += list(predictions.data.cpu().numpy())\n",
    "    \n",
    "    submission_prediction = [idx_to_class[i] for i in submission_prediction]\n",
    "    submission_df = pd.DataFrame({'Category': submission_prediction}, index = submission_indices)\n",
    "    submission_df.to_csv('submission.csv', index_label = 'Id')\n",
    "    print(\"Submission File Saved.\")"
   ]
  },
  {
   "cell_type": "code",
   "execution_count": 70,
   "metadata": {},
   "outputs": [
    {
     "data": {
      "text/plain": [
       "0.4980434782608696"
      ]
     },
     "execution_count": 70,
     "metadata": {},
     "output_type": "execute_result"
    }
   ],
   "source": [
    "val_accuracy(model)"
   ]
  },
  {
   "cell_type": "code",
   "execution_count": 72,
   "metadata": {},
   "outputs": [
    {
     "name": "stdout",
     "output_type": "stream",
     "text": [
      "Submission File Saved.\n"
     ]
    }
   ],
   "source": [
    "idx_to_class = {j:i for i, j in val_imagefolder.class_to_idx.items()}\n",
    "make_classification_submission(model, idx_to_class)"
   ]
  },
  {
   "cell_type": "code",
   "execution_count": null,
   "metadata": {},
   "outputs": [],
   "source": []
  }
 ],
 "metadata": {
  "kernelspec": {
   "display_name": "Python 3",
   "language": "python",
   "name": "python3"
  },
  "language_info": {
   "codemirror_mode": {
    "name": "ipython",
    "version": 3
   },
   "file_extension": ".py",
   "mimetype": "text/x-python",
   "name": "python",
   "nbconvert_exporter": "python",
   "pygments_lexer": "ipython3",
   "version": "3.5.6"
  }
 },
 "nbformat": 4,
 "nbformat_minor": 2
}
